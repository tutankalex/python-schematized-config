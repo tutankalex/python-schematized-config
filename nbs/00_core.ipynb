{
 "cells": [
  {
   "attachments": {},
   "cell_type": "markdown",
   "metadata": {},
   "source": [
    "# core\n",
    "\n",
    "> a library that wraps jsonschema's `validate()` to validate a configuration dict (`.env` in particular)"
   ]
  },
  {
   "cell_type": "code",
   "execution_count": null,
   "metadata": {},
   "outputs": [],
   "source": [
    "#| default_exp core"
   ]
  },
  {
   "cell_type": "code",
   "execution_count": null,
   "metadata": {},
   "outputs": [],
   "source": [
    "#| export\n",
    "from nbdev.showdoc import *\n",
    "from fastcore.test import *\n",
    "\n",
    "import dotenv\n",
    "import json\n",
    "import os\n",
    "import jsonschema\n",
    "import logging\n",
    "from jsonschema import validate, ValidationError\n",
    "from typing import Union\n",
    "from fs.base import FS\n",
    "from fs.osfs import OSFS\n",
    "\n",
    "\n",
    "logger = logging.getLogger(__name__)"
   ]
  },
  {
   "cell_type": "code",
   "execution_count": null,
   "metadata": {},
   "outputs": [],
   "source": [
    "#| export\n",
    "def coerce_primitive_values(json_schema: dict, data: dict) -> dict:\n",
    "    '''\n",
    "    given a JSON schema dict, return a dict where the values that have\n",
    "    primitive types (`string`, `integer`, `number`, `boolean`) as described\n",
    "    in the schema are converted to the corresponding types from `str`\n",
    "    \n",
    "    :param json_schema: expected (but not validated) to be a json schema\n",
    "    :param data: the data (e.g. dotenv, os.environ) to extract from\n",
    "    :return: coerced dict\n",
    "    '''\n",
    "    if not isinstance(data, dict):\n",
    "        return data\n",
    "    out = data.copy()\n",
    "    # use the json schema to convert types on known properties\n",
    "    for property_name, property_schema in json_schema['properties'].items():\n",
    "        property_type = property_schema.get('type')\n",
    "        property_value = data.get(property_name)\n",
    "        if property_value is None:\n",
    "            continue\n",
    "        # property_value should be a string at this point\n",
    "        try:\n",
    "            if property_type == 'integer':\n",
    "                out[property_name] = int(data[property_name])\n",
    "            elif property_type == 'number':\n",
    "                out[property_name] = float(data[property_name])\n",
    "            elif property_type == 'boolean':\n",
    "                parsed_boolean = None\n",
    "                if property_value.lower() in (\n",
    "                    'true', 'yes', 'y', '1', 'on',\n",
    "                ):\n",
    "                    parsed_boolean = True\n",
    "                elif property_value.lower() in (\n",
    "                    'false', 'no', 'n', '0', 'off',\n",
    "                ):\n",
    "                    parsed_boolean = False\n",
    "                out[property_name] = parsed_boolean\n",
    "        except:\n",
    "            # leave any validation error descriptions to json schema\n",
    "            continue\n",
    "    return out"
   ]
  },
  {
   "cell_type": "code",
   "execution_count": null,
   "metadata": {},
   "outputs": [],
   "source": [
    "#| hide\n",
    "# everything is correct\n",
    "test_eq(coerce_primitive_values({\n",
    "    'type': 'object',\n",
    "    'properties': {\n",
    "        'STRING': { 'type': 'string' },\n",
    "        'NUMBER': { 'type': 'number' },\n",
    "        'INTEGER': { 'type': 'number' },\n",
    "        'BOOLEAN': { 'type': 'boolean' },\n",
    "    },\n",
    "}, {\n",
    "    'STRING': 'asdf',\n",
    "    'NUMBER': '1232529.56',\n",
    "    'INTEGER': '98758585858232',\n",
    "    'BOOLEAN': 'TRUE',\n",
    "}), {\n",
    "    'STRING': 'asdf',\n",
    "    'NUMBER': 1232529.56,\n",
    "    'INTEGER': 98758585858232,\n",
    "    'BOOLEAN': True,\n",
    "})"
   ]
  },
  {
   "cell_type": "code",
   "execution_count": null,
   "metadata": {},
   "outputs": [],
   "source": [
    "#|hide\n",
    "# undeclared types do not get converted\n",
    "test_eq(coerce_primitive_values({\n",
    "    'type': 'object',\n",
    "    'properties': {\n",
    "        'STRING': { 'type': 'string' },\n",
    "        'SOMETHING_ELSE': {},\n",
    "    },\n",
    "}, {\n",
    "    'NUMBER': '1232529.56',\n",
    "    'INTEGER': '98758585858232',\n",
    "    'BOOLEAN': 'TRUE',\n",
    "    'SOMETHING_ELSE': {'a': 1, 'b': ['c', 3]},\n",
    "}), {\n",
    "    'NUMBER': '1232529.56',\n",
    "    'INTEGER': '98758585858232',\n",
    "    'BOOLEAN': 'TRUE',\n",
    "    'SOMETHING_ELSE': {'a': 1, 'b': ['c', 3]},\n",
    "})"
   ]
  },
  {
   "cell_type": "code",
   "execution_count": null,
   "metadata": {},
   "outputs": [],
   "source": [
    "#| export\n",
    "def extract_declared_items(json_schema: dict, data: dict) -> dict:\n",
    "    '''\n",
    "    given a JSON schema dict, return a dict where\n",
    "    - all keys that are not declared in the schema are removed\n",
    "    - all keys that are declared in the schem are present;\n",
    "      if a key is declared in the schema with a default,\n",
    "      BUT NOT present in the original data, it will be added\n",
    "      using the 'default' value\n",
    "      \n",
    "    :param json_schema: expected (but not validated) to be a json schema\n",
    "    :param data: the data (e.g. dotenv, os.environ) to extract from\n",
    "    :return: extracted dict\n",
    "    '''\n",
    "    properties = json_schema['properties']\n",
    "    out = {key: value for (key, value) in data.items() if key in properties}\n",
    "    for required_property, property_schema in properties.items():\n",
    "        if required_property not in out and 'default' in property_schema:\n",
    "            out[required_property] = property_schema['default']\n",
    "    return out"
   ]
  },
  {
   "cell_type": "code",
   "execution_count": null,
   "metadata": {},
   "outputs": [],
   "source": [
    "#| hide\n",
    "test_eq(extract_declared_items({\n",
    "    'type': 'object',\n",
    "    'properties': {\n",
    "        'STRING': { 'type': 'string' },\n",
    "        'SOMETHING_ELSE': {},\n",
    "        'HAS_DEFAULT': { 'type': 'boolean', 'default': 'NO COERCION!' },\n",
    "    },\n",
    "}, {\n",
    "    'NUMBER': '1232529.56',\n",
    "    'INTEGER': '98758585858232',\n",
    "    'BOOLEAN': 'TRUE',\n",
    "    'SOMETHING_ELSE': {'a': 1, 'b': ['c', 3]},\n",
    "}), {\n",
    "    'SOMETHING_ELSE': {'a': 1, 'b': ['c', 3]},\n",
    "    'HAS_DEFAULT': 'NO COERCION!',\n",
    "})"
   ]
  },
  {
   "cell_type": "code",
   "execution_count": null,
   "metadata": {},
   "outputs": [],
   "source": [
    "#| export\n",
    "class ConfigValidatorException(Exception):\n",
    "    \n",
    "    def __init__(self, errors):\n",
    "        super().__init__('config failed to validate against JSON schema')\n",
    "        self.errors = errors\n",
    "\n",
    "\n",
    "class ConfigValidator(object):\n",
    "\n",
    "    DEFAULT_STORAGE_DRIVER: FS = OSFS('.')\n",
    "    \n",
    "    CONFIG_VALIDATOR_JSON_SCHEMA_ENVVAR_NAME = 'CONFIG_VALIDATOR_JSON_SCHEMA'\n",
    "\n",
    "    @classmethod\n",
    "    def load_json(cls, json_source: Union[str, dict]=None, storage_driver: FS = None) -> dict:\n",
    "        '''\n",
    "        convenience method to return a dict from either\n",
    "        a file path or an already-loaded dict\n",
    "        '''\n",
    "        storage_driver = storage_driver or cls.DEFAULT_STORAGE_DRIVER\n",
    "        if isinstance(json_source, str):\n",
    "            with storage_driver.open(json_source) as ifile:\n",
    "                return json.load(ifile)\n",
    "        elif isinstance(json_source, dict):\n",
    "            return json_source\n",
    "\n",
    "    @classmethod\n",
    "    def get_default_json_schema(cls, storage_driver: FS = None) -> dict:\n",
    "        storage_driver = storage_driver or cls.DEFAULT_STORAGE_DRIVER\n",
    "        if cls.CONFIG_VALIDATOR_JSON_SCHEMA_ENVVAR_NAME in os.environ:\n",
    "            expected_json_schema_path = \\\n",
    "                os.environ[cls.CONFIG_VALIDATOR_JSON_SCHEMA_ENVVAR_NAME]\n",
    "            with storage_driver.open(expected_json_schema_path) as ifile:\n",
    "                return json.load(ifile)\n",
    "        return None\n",
    "\n",
    "    def __init__(self, json_schema: Union[str, dict]=None, storage_driver: FS=None):\n",
    "        '''\n",
    "        :param json_schema: a str path to a json schema file, or a schema in dict form\n",
    "        \n",
    "        if no value is provided, it will fall back to looking for\n",
    "        an environment variable corresponding to the class variable\n",
    "        `CONFIG_VALIDATOR_JSON_SCHEMA_ENVVAR_NAME`\n",
    "        to find a JSON schema file\n",
    "        '''\n",
    "        self.storage_driver = storage_driver or self.__class__.DEFAULT_STORAGE_DRIVER\n",
    "        if isinstance(json_schema, (str, dict)):\n",
    "            self._json_schema = self.__class__.load_json(json_schema)\n",
    "        elif (default_schema := self.__class__.get_default_json_schema()):\n",
    "            self._json_schema = default_schema\n",
    "        else:\n",
    "            raise Exception('did not receive or find a JSON schema')\n",
    "\n",
    "    def load_config(self, config: dict):\n",
    "        extracted_config = extract_declared_items(self._json_schema, config)\n",
    "        coerced_config = coerce_primitive_values(self._json_schema, extracted_config)\n",
    "        validator = jsonschema.Draft4Validator(self._json_schema)\n",
    "        errors = list(validator.iter_errors(coerced_config))\n",
    "        if errors:\n",
    "            for error in errors:\n",
    "                logger.error(f'{error.json_path}:\\t{error.message}')\n",
    "            raise ConfigValidatorException(errors)\n",
    "        return coerced_config\n",
    "    \n",
    "    @classmethod\n",
    "    def load_validated_config(cls, json_schema: Union[str, dict], config: dict, **kwargs):\n",
    "        return cls(json_schema, **kwargs).load_config(config)\n",
    "\n",
    "    @classmethod\n",
    "    def load_validated_environment(cls, json_schema: Union[str, dict]=None, **kwargs):\n",
    "        return cls.load_validated_config(json_schema, dict(os.environ), **kwargs)\n",
    "        \n",
    "    @classmethod\n",
    "    def load_dotenv(cls, json_schema: Union[str, dict]=None, dotenv_path: str=None, storage_driver: FS=None):\n",
    "        storage_driver = storage_driver or cls.DEFAULT_STORAGE_DRIVER\n",
    "        with storage_driver.open(dotenv_path) as ifile:\n",
    "            config = dotenv.dotenv_values(stream=ifile)\n",
    "        return cls.load_validated_config(\n",
    "            json_schema or cls.get_default_json_schema(), config)"
   ]
  },
  {
   "cell_type": "code",
   "execution_count": null,
   "metadata": {},
   "outputs": [],
   "source": [
    "#| hide\n",
    "# assume we're only dealing with primitive types for now\n",
    "example_properties_schema = {\n",
    "    'title': 'example-properties-schema',\n",
    "    'description': 'example JSON Schema for demonstration and testing in documentation using nbdev',\n",
    "    'type': 'object',\n",
    "    'required': [\n",
    "        'string_value_with_enum',\n",
    "        'MY_INTEGER_VALUE',\n",
    "        'A_NUMERIC_VALUE',\n",
    "    ],\n",
    "    'properties': {\n",
    "        # string\n",
    "        'SOME_STRING_VALUE_funnyCaSe345': {\n",
    "            'type': 'string',\n",
    "        },\n",
    "        'string_value_with_enum': {\n",
    "            'description': 'this one is in the <required> list!',\n",
    "            'type': 'string',\n",
    "            'enum': [\n",
    "                'it', 'can', 'only', 'be', 'one', 'of', 'these',\n",
    "            ],\n",
    "        },\n",
    "        '_____A_STRING_VALUE____with_default__': {\n",
    "            'description': 'values with a default get hydrated using the default if not present in input',\n",
    "            'type': 'string',\n",
    "            'default': 'underscores_and spaces',\n",
    "        },\n",
    "        \n",
    "        # integer\n",
    "        'MY_INTEGER_VALUE': {\n",
    "            'type': 'integer',\n",
    "            'description': 'not used for validation, but your benefit',\n",
    "        },\n",
    "        \n",
    "        # number\n",
    "        'A_NUMERIC_VALUE': {\n",
    "            'type': 'number',\n",
    "            'description': 'continuous and real and reasonable',\n",
    "            'minimum': 22,\n",
    "            'maximum': 33333.4,\n",
    "        },\n",
    "        \n",
    "        # boolean\n",
    "        'true_or_false__but_also_nothing': {\n",
    "            'type': 'boolean',\n",
    "        }\n",
    "    },\n",
    "}"
   ]
  },
  {
   "cell_type": "code",
   "execution_count": null,
   "metadata": {},
   "outputs": [
    {
     "name": "stderr",
     "output_type": "stream",
     "text": [
      "$:\t'string_value_with_enum' is a required property\n",
      "$:\t'MY_INTEGER_VALUE' is a required property\n",
      "$:\t'A_NUMERIC_VALUE' is a required property\n"
     ]
    }
   ],
   "source": [
    "#| hide\n",
    "test_fail(ConfigValidator.load_validated_config, args=(example_properties_schema, {}))"
   ]
  },
  {
   "cell_type": "code",
   "execution_count": null,
   "metadata": {},
   "outputs": [],
   "source": [
    "#| hide\n",
    "test_eq(ConfigValidator.load_validated_config(example_properties_schema, {\n",
    "    'string_value_with_enum': 'these',\n",
    "    'MY_INTEGER_VALUE': '1122334',\n",
    "    'A_NUMERIC_VALUE': '24.89',\n",
    "}), {\n",
    "    'string_value_with_enum': 'these',\n",
    "    'MY_INTEGER_VALUE': 1122334,\n",
    "    'A_NUMERIC_VALUE': 24.89,\n",
    "    '_____A_STRING_VALUE____with_default__': 'underscores_and spaces',\n",
    "})"
   ]
  },
  {
   "cell_type": "code",
   "execution_count": null,
   "metadata": {},
   "outputs": [],
   "source": [
    "#| hide\n",
    "test_eq(ConfigValidator.load_validated_config(example_properties_schema, {\n",
    "    'string_value_with_enum': 'these',\n",
    "    'MY_INTEGER_VALUE': '-85',\n",
    "    'A_NUMERIC_VALUE': '1.23e4',\n",
    "}), {\n",
    "    'string_value_with_enum': 'these',\n",
    "    'MY_INTEGER_VALUE': -85,\n",
    "    'A_NUMERIC_VALUE': 12300.0,\n",
    "    '_____A_STRING_VALUE____with_default__': 'underscores_and spaces',\n",
    "})"
   ]
  },
  {
   "cell_type": "code",
   "execution_count": null,
   "metadata": {},
   "outputs": [
    {
     "name": "stderr",
     "output_type": "stream",
     "text": [
      "$.string_value_with_enum:\t'blah-blah' is not one of ['it', 'can', 'only', 'be', 'one', 'of', 'these']\n"
     ]
    }
   ],
   "source": [
    "#| hide\n",
    "test_fail(ConfigValidator.load_validated_config,\n",
    "          'should fail because string_value_with_enum is outside enum',\n",
    "          args=(example_properties_schema, {\n",
    "    'string_value_with_enum': 'blah-blah',\n",
    "    'MY_INTEGER_VALUE': '1122334',\n",
    "    'A_NUMERIC_VALUE': '24.89',\n",
    "}))"
   ]
  },
  {
   "cell_type": "code",
   "execution_count": null,
   "metadata": {},
   "outputs": [
    {
     "name": "stderr",
     "output_type": "stream",
     "text": [
      "$.MY_INTEGER_VALUE:\t'5555.999' is not of type 'integer'\n"
     ]
    }
   ],
   "source": [
    "#| hide\n",
    "test_fail(ConfigValidator.load_validated_config,\n",
    "          'should fail because MY_INTEGER_VALUE is not an integer',\n",
    "          args=(example_properties_schema, {\n",
    "    'string_value_with_enum': 'these',\n",
    "    'MY_INTEGER_VALUE': '5555.999',\n",
    "    'A_NUMERIC_VALUE': '24.89',\n",
    "}))"
   ]
  },
  {
   "cell_type": "code",
   "execution_count": null,
   "metadata": {},
   "outputs": [
    {
     "name": "stderr",
     "output_type": "stream",
     "text": [
      "$.A_NUMERIC_VALUE:\t'WHAT???' is not of type 'number'\n"
     ]
    }
   ],
   "source": [
    "#| hide\n",
    "test_fail(ConfigValidator.load_validated_config,\n",
    "          'should fail because A_NUMERIC_VALUE is not numeric',\n",
    "          args=(example_properties_schema, {\n",
    "    'string_value_with_enum': 'these',\n",
    "    'MY_INTEGER_VALUE': '1122334',\n",
    "    'A_NUMERIC_VALUE': 'WHAT???',\n",
    "}))"
   ]
  },
  {
   "cell_type": "code",
   "execution_count": null,
   "metadata": {},
   "outputs": [
    {
     "name": "stderr",
     "output_type": "stream",
     "text": [
      "$.A_NUMERIC_VALUE:\t13.0 is less than the minimum of 22\n"
     ]
    }
   ],
   "source": [
    "#| hide\n",
    "test_fail(ConfigValidator.load_validated_config,\n",
    "          'should fail beacuse A_NUMERIC_VALUE is less than the allowed minimum',\n",
    "          args=(example_properties_schema, {\n",
    "    'string_value_with_enum': 'these',\n",
    "    'MY_INTEGER_VALUE': '1122334',\n",
    "    'A_NUMERIC_VALUE': '13',\n",
    "}))"
   ]
  },
  {
   "cell_type": "code",
   "execution_count": null,
   "metadata": {},
   "outputs": [],
   "source": [
    "#| hide\n",
    "# FIXME this test clobbers the environment\n",
    "# FIXME this is a code smell on the class design\n",
    "# here we're testing the ability to override the storage driver (memoryfs here)\n",
    "\n",
    "from fs.memoryfs import MemoryFS\n",
    "memfs = MemoryFS()\n",
    "\n",
    "memfs.makedirs('extra-long-directory-place', recreate=True)\n",
    "with memfs.open('extra-long-directory-place/schema.json', 'w') as ofile:\n",
    "    ofile.write(json.dumps(example_properties_schema))\n",
    "    os.environ['CONFIG_VALIDATOR_JSON_SCHEMA'] = ofile.name\n",
    "\n",
    "ConfigValidator.DEFAULT_STORAGE_DRIVER = memfs\n",
    "validator = ConfigValidator()\n",
    "validated_config = validator.load_config({\n",
    "    'string_value_with_enum': 'these',\n",
    "    'MY_INTEGER_VALUE': '-85',\n",
    "    'A_NUMERIC_VALUE': '1.23e4',\n",
    "})\n",
    "\n",
    "test_eq(validated_config, {\n",
    "    'string_value_with_enum': 'these',\n",
    "    'MY_INTEGER_VALUE': -85,\n",
    "    'A_NUMERIC_VALUE': 12300.0,\n",
    "    '_____A_STRING_VALUE____with_default__': 'underscores_and spaces',\n",
    "})\n",
    "\n",
    "# test loading dotenv from an arbitrary file\n",
    "memfs.makedirs('special-bespoke-location', recreate=True)\n",
    "with memfs.open('special-bespoke-location/my-own.env', 'w') as ofile:\n",
    "    ofile.write('\\n'.join([\n",
    "        'string_value_with_enum=only',\n",
    "        'MY_INTEGER_VALUE=9989998',\n",
    "        'A_NUMERIC_VALUE=1167.89',\n",
    "    ]))\n",
    "\n",
    "validated_dotenv = validator.load_dotenv(dotenv_path='special-bespoke-location/my-own.env')\n",
    "test_eq(validated_dotenv, {\n",
    "    'string_value_with_enum': 'only',\n",
    "    'MY_INTEGER_VALUE': 9989998,\n",
    "    'A_NUMERIC_VALUE': 1167.89,\n",
    "    '_____A_STRING_VALUE____with_default__': 'underscores_and spaces',\n",
    "})\n",
    "\n",
    "test_fail(validator.load_dotenv, kwargs={'dotenv_path': 'non-existent-location-own.env'})"
   ]
  },
  {
   "cell_type": "code",
   "execution_count": null,
   "metadata": {},
   "outputs": [],
   "source": [
    "#| hide\n",
    "import nbdev; nbdev.nbdev_export()"
   ]
  }
 ],
 "metadata": {
  "kernelspec": {
   "display_name": "python3",
   "language": "python",
   "name": "python3"
  }
 },
 "nbformat": 4,
 "nbformat_minor": 4
}
