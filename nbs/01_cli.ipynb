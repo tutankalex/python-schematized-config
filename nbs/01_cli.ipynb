{
 "cells": [
  {
   "cell_type": "markdown",
   "id": "fa9d3839",
   "metadata": {},
   "source": [
    "# cli\n",
    "\n",
    "> command line interface providing friendly tools"
   ]
  },
  {
   "cell_type": "code",
   "execution_count": 1,
   "id": "292835bc",
   "metadata": {
    "ExecuteTime": {
     "end_time": "2023-06-17T05:24:59.152067Z",
     "start_time": "2023-06-17T05:24:59.148711Z"
    }
   },
   "outputs": [],
   "source": [
    "#| default_exp cli"
   ]
  },
  {
   "cell_type": "code",
   "execution_count": 2,
   "id": "edb02c6d",
   "metadata": {
    "ExecuteTime": {
     "end_time": "2023-06-17T05:25:00.300364Z",
     "start_time": "2023-06-17T05:25:00.144682Z"
    }
   },
   "outputs": [],
   "source": [
    "#| export\n",
    "from python_schematized_config.core import ConfigValidator, load_json, extract_declared_items\n",
    "\n",
    "import os\n",
    "import sys\n",
    "import argparse\n",
    "import dotenv\n",
    "from typing import Union\n",
    "from fastcore.script import *"
   ]
  },
  {
   "cell_type": "code",
   "execution_count": 3,
   "id": "c76d8ad0",
   "metadata": {
    "ExecuteTime": {
     "end_time": "2023-06-17T05:25:01.089147Z",
     "start_time": "2023-06-17T05:25:01.083831Z"
    }
   },
   "outputs": [],
   "source": [
    "def validate_env(json_schema: Union[str, dict], dotenv_path: str=None):\n",
    "    validator = ConfigValidator(json_schema)\n",
    "    try:\n",
    "        validator.load_config(dotenv.dotenv_values(dotenv_path))\n",
    "        return True\n",
    "    except ConfigValidatorException as ex:\n",
    "        sys.stderr.write(f'{str(ex)}\\n')\n",
    "        for error in ex.errors:\n",
    "            sys.stderr.write(f'{error.json_path}:\\t{error.message}\\n')\n",
    "        return False"
   ]
  },
  {
   "cell_type": "code",
   "execution_count": 4,
   "id": "85f3438b",
   "metadata": {
    "ExecuteTime": {
     "end_time": "2023-06-17T05:25:01.895278Z",
     "start_time": "2023-06-17T05:25:01.887838Z"
    }
   },
   "outputs": [],
   "source": [
    "def generate_sample_dotenv(json_schema: Union[str, dict], seed_config: dict=None):\n",
    "    schema_dict = load_json(json_schema)\n",
    "    merged_config = dict(os.environ)\n",
    "    default_dotenv = dotenv.dotenv_values()\n",
    "    merged_config.update(default_dotenv)\n",
    "    merged_config.update(seed_config or {})\n",
    "    extracted_config = extract_declared_items(schema_dict, merged_config)\n",
    "    out = [\n",
    "        f'{key}={value}'\n",
    "        for key, value in extracted_config.items()\n",
    "    ]\n",
    "    # for all keys that are in the schema, but NOT in the current config,\n",
    "    # add them as comments\n",
    "    for (key, value_schema) in schema_dict['properties'].items():\n",
    "        if key not in extracted_config:\n",
    "            out.append(f'# {key}=<{value_schema.get(\"type\")}>')\n",
    "    return '\\n'.join(out)"
   ]
  },
  {
   "cell_type": "code",
   "execution_count": 5,
   "id": "227d3160",
   "metadata": {
    "ExecuteTime": {
     "end_time": "2023-06-17T05:25:02.648856Z",
     "start_time": "2023-06-17T05:25:02.642876Z"
    }
   },
   "outputs": [
    {
     "name": "stdout",
     "output_type": "stream",
     "text": [
      "HAS_DEFAULT=NO COERCION!\n",
      "# STRING=<string>\n",
      "# SOMETHING_ELSE=<None>\n"
     ]
    }
   ],
   "source": [
    "#| hide\n",
    "sample_dotenv = generate_sample_dotenv(\n",
    "    {\n",
    "        'type': 'object',\n",
    "        'properties': {\n",
    "            'STRING': { 'type': 'string' },\n",
    "            'SOMETHING_ELSE': {},\n",
    "            'HAS_DEFAULT': { 'type': 'boolean', 'default': 'NO COERCION!' },\n",
    "        },\n",
    "    },\n",
    "    {\n",
    "        'string_value_with_enum': 'these',\n",
    "        'MY_INTEGER_VALUE': '1122334',\n",
    "        'A_NUMERIC_VALUE': '13',\n",
    "    }\n",
    ")\n",
    "print(sample_dotenv)"
   ]
  },
  {
   "cell_type": "code",
   "execution_count": 6,
   "id": "02a377e6",
   "metadata": {
    "ExecuteTime": {
     "end_time": "2023-06-17T05:25:03.370818Z",
     "start_time": "2023-06-17T05:25:03.340627Z"
    }
   },
   "outputs": [],
   "source": [
    "#| export\n",
    "\n",
    "@call_parse\n",
    "def main(\n",
    "    generate: str = None,              # path to a json schema that validates a dotenv\n",
    "    schema: str = None,                 # path to json schema used for validation\n",
    "    validate: Union[bool, str] = None,  # validate a dotenv; if a path not given, assume .env; requires <schema>\n",
    "):\n",
    "    \"friendly tools to work with schemas and dotenv\"\n",
    "    \n",
    "    if generate:\n",
    "        sys.stdout.write(generate_sample_dotenv(generate))\n",
    "    elif schema and validate:\n",
    "        if validate is True:\n",
    "            dotenv_path = '.env'\n",
    "        else:\n",
    "            dotenv_path = None\n",
    "        validate_env(schema, dotenv_path)"
   ]
  },
  {
   "cell_type": "code",
   "execution_count": 7,
   "id": "3c3ca54a",
   "metadata": {
    "ExecuteTime": {
     "end_time": "2023-06-17T05:25:05.623222Z",
     "start_time": "2023-06-17T05:25:05.577176Z"
    }
   },
   "outputs": [],
   "source": [
    "#| hide\n",
    "import nbdev; nbdev.nbdev_export()"
   ]
  }
 ],
 "metadata": {
  "kernelspec": {
   "display_name": "Python 3 (ipykernel)",
   "language": "python",
   "name": "python3"
  },
  "language_info": {
   "codemirror_mode": {
    "name": "ipython",
    "version": 3
   },
   "file_extension": ".py",
   "mimetype": "text/x-python",
   "name": "python",
   "nbconvert_exporter": "python",
   "pygments_lexer": "ipython3",
   "version": "3.10.8"
  },
  "toc": {
   "base_numbering": 1,
   "nav_menu": {},
   "number_sections": true,
   "sideBar": true,
   "skip_h1_title": false,
   "title_cell": "Table of Contents",
   "title_sidebar": "Contents",
   "toc_cell": false,
   "toc_position": {},
   "toc_section_display": true,
   "toc_window_display": false
  },
  "varInspector": {
   "cols": {
    "lenName": 16,
    "lenType": 16,
    "lenVar": 40
   },
   "kernels_config": {
    "python": {
     "delete_cmd_postfix": "",
     "delete_cmd_prefix": "del ",
     "library": "var_list.py",
     "varRefreshCmd": "print(var_dic_list())"
    },
    "r": {
     "delete_cmd_postfix": ") ",
     "delete_cmd_prefix": "rm(",
     "library": "var_list.r",
     "varRefreshCmd": "cat(var_dic_list()) "
    }
   },
   "types_to_exclude": [
    "module",
    "function",
    "builtin_function_or_method",
    "instance",
    "_Feature"
   ],
   "window_display": false
  }
 },
 "nbformat": 4,
 "nbformat_minor": 5
}
