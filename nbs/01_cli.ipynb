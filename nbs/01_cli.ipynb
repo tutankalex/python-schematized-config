{
 "cells": [
  {
   "cell_type": "markdown",
   "id": "fa9d3839",
   "metadata": {},
   "source": [
    "# cli\n",
    "\n",
    "> command line interface providing friendly tools"
   ]
  },
  {
   "cell_type": "code",
   "execution_count": null,
   "id": "292835bc",
   "metadata": {},
   "outputs": [],
   "source": [
    "#| default_exp cli"
   ]
  },
  {
   "cell_type": "code",
   "execution_count": null,
   "id": "edb02c6d",
   "metadata": {},
   "outputs": [],
   "source": [
    "#| export\n",
    "from schematized_config.core import (\n",
    "    ConfigValidator,\n",
    "    ConfigValidatorException,\n",
    "    extract_declared_items,\n",
    ")\n",
    "\n",
    "import os\n",
    "import sys\n",
    "import argparse\n",
    "import dotenv\n",
    "from typing import Union\n",
    "from fastcore.script import call_parse, anno_parser"
   ]
  },
  {
   "cell_type": "code",
   "execution_count": null,
   "id": "c76d8ad0",
   "metadata": {},
   "outputs": [],
   "source": [
    "#| export\n",
    "def validate_env(json_schema: Union[str, dict], dotenv_path: str=None):\n",
    "    validator = ConfigValidator(json_schema)\n",
    "    try:\n",
    "        validator.load_config(dotenv.dotenv_values(dotenv_path))\n",
    "        return True\n",
    "    except ConfigValidatorException as ex:\n",
    "        sys.stderr.write(f'{str(ex)}\\n')\n",
    "        for error in ex.errors:\n",
    "            sys.stderr.write(f'{error.json_path}:\\t{error.message}\\n')\n",
    "        return False"
   ]
  },
  {
   "cell_type": "code",
   "execution_count": null,
   "id": "85f3438b",
   "metadata": {},
   "outputs": [],
   "source": [
    "#| export\n",
    "def generate_sample_dotenv(json_schema: Union[str, dict], seed_config: dict=None):\n",
    "    schema_dict = ConfigValidator.load_json(json_schema)\n",
    "    merged_config = dict(os.environ)\n",
    "    default_dotenv = dotenv.dotenv_values()\n",
    "    merged_config.update(default_dotenv)\n",
    "    merged_config.update(seed_config or {})\n",
    "    extracted_config = extract_declared_items(schema_dict, merged_config)\n",
    "    out = [\n",
    "        f'{key}={value}'\n",
    "        for key, value in extracted_config.items()\n",
    "    ]\n",
    "    # for all keys that are in the schema, but NOT in the current config,\n",
    "    # add them as comments\n",
    "    for (key, value_schema) in schema_dict['properties'].items():\n",
    "        if key not in extracted_config:\n",
    "            out.append(f'# {key}=<{value_schema.get(\"type\")}>')\n",
    "    return '\\n'.join(out)"
   ]
  },
  {
   "cell_type": "code",
   "execution_count": null,
   "id": "227d3160",
   "metadata": {},
   "outputs": [
    {
     "name": "stdout",
     "output_type": "stream",
     "text": [
      "HAS_DEFAULT=NO COERCION!\n",
      "# STRING=<string>\n",
      "# SOMETHING_ELSE=<None>\n"
     ]
    }
   ],
   "source": [
    "#| hide\n",
    "sample_dotenv = generate_sample_dotenv(\n",
    "    {\n",
    "        'type': 'object',\n",
    "        'properties': {\n",
    "            'STRING': { 'type': 'string' },\n",
    "            'SOMETHING_ELSE': {},\n",
    "            'HAS_DEFAULT': { 'type': 'boolean', 'default': 'NO COERCION!' },\n",
    "        },\n",
    "    },\n",
    "    {\n",
    "        'string_value_with_enum': 'these',\n",
    "        'MY_INTEGER_VALUE': '1122334',\n",
    "        'A_NUMERIC_VALUE': '13',\n",
    "    }\n",
    ")\n",
    "print(sample_dotenv)"
   ]
  },
  {
   "cell_type": "code",
   "execution_count": null,
   "id": "02a377e6",
   "metadata": {},
   "outputs": [],
   "source": [
    "#| export\n",
    "    \n",
    "import importlib\n",
    "\n",
    "_self_module = importlib.import_module(\n",
    "    \".\",\n",
    "    __name__.split('.')[0]  #  module_name\n",
    ")\n",
    "VERSION = getattr(_self_module, '__version__', 'NOT-IN-MODULE')  # fails in notebook, works in module\n",
    "EXECUTABLE_NAME = 'schematized-config'\n",
    "\n",
    "def _hack_docstring(func):\n",
    "    # hack the docstring to inject the version\n",
    "    # the docstring gets rendered as the second line in the CLI help,\n",
    "    # but it doesn't simply take an f-string, so we hack it in\n",
    "    func.__doc__ = f\"{_self_module.__name__}: {func.__doc__} (v{VERSION})\"\n",
    "    return func\n",
    "\n",
    "@call_parse\n",
    "@_hack_docstring\n",
    "def main(\n",
    "    generate: str = None,  # path to a json schema that validates a dotenv\n",
    "    schema: str = None,    # path to json schema used for validation\n",
    "    validate: str = 'env',  # validate a dotenv; requires <schema>\n",
    "):\n",
    "    \"friendly tools to work with schemas and dotenv\"\n",
    "    \n",
    "    if generate:\n",
    "        sys.stdout.write(generate_sample_dotenv(generate))\n",
    "    elif schema and validate:\n",
    "        dotenv_path = validate\n",
    "        validate_env(schema, dotenv_path)\n",
    "    else:\n",
    "        anno_parser(main, EXECUTABLE_NAME).print_help()\n"
   ]
  },
  {
   "cell_type": "code",
   "execution_count": null,
   "id": "3c3ca54a",
   "metadata": {},
   "outputs": [],
   "source": [
    "#| hide\n",
    "import nbdev; nbdev.nbdev_export()"
   ]
  }
 ],
 "metadata": {
  "kernelspec": {
   "display_name": "python3",
   "language": "python",
   "name": "python3"
  }
 },
 "nbformat": 4,
 "nbformat_minor": 5
}
