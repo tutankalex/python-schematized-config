{
 "cells": [
  {
   "cell_type": "code",
   "execution_count": null,
   "metadata": {},
   "outputs": [],
   "source": [
    "#| hide\n",
    "from schematized_config.core import *"
   ]
  },
  {
   "cell_type": "markdown",
   "metadata": {},
   "source": [
    "# schematized config\n",
    "\n",
    "> validate configs using json schema"
   ]
  },
  {
   "cell_type": "markdown",
   "metadata": {},
   "source": [
    "## Install"
   ]
  },
  {
   "cell_type": "markdown",
   "metadata": {},
   "source": [
    "```sh\n",
    "pip install python_schematized_config\n",
    "```"
   ]
  },
  {
   "cell_type": "markdown",
   "metadata": {},
   "source": [
    "## usage"
   ]
  },
  {
   "cell_type": "code",
   "execution_count": null,
   "metadata": {},
   "outputs": [],
   "source": [
    "from schematized_config.core import ConfigValidator"
   ]
  },
  {
   "cell_type": "code",
   "execution_count": null,
   "metadata": {},
   "outputs": [],
   "source": [
    "import os\n",
    "import os.path as _p\n",
    "\n",
    "if _p.exists('.env') and 'CONFIG_VALIDATOR_JSON_SCHEMA' in os.environ:\n",
    "    ConfigValidator.load_dotenv()  # use defaults of .env and CONFIG_VALIDATOR_JSON_SCHEMA"
   ]
  },
  {
   "cell_type": "markdown",
   "metadata": {},
   "source": [
    "# development"
   ]
  },
  {
   "cell_type": "markdown",
   "metadata": {},
   "source": [
    "<details>\n",
    "    <summary>entering the development environment</summary>\n",
    "assuming you have [nix](https://nixos.org/download.html) installed and ready, make sure `nix-command` and `flake` are enabled (oneliner: run `export NIX_CONFIG=\"experimental-features = nix-command flakes\"` in the terminal), then enter the dev shell using `nix develop`\n",
    "\n",
    "start the jupyter notebook using the provided alias or just `jupyter notebook`, and hack away\n",
    "</details>"
   ]
  },
  {
   "cell_type": "markdown",
   "metadata": {},
   "source": [
    "## nbdev\n",
    "\n",
    "this package is developed using [nbdev](https://nbdev.fast.ai/), so we use an nbdev-centric development flow. For a quick guide, we recommend checking out the [end-to-end walkthrough](https://nbdev.fast.ai/tutorials/tutorial.html). But in short: edit notebooks, then run the `nbdev_*` management commands. The most essential flow is as follows:\n",
    "\n",
    "1. edit the notebook files (core fore core, and cli for the command line interface)\n",
    "1. `python setup.py install`  # note we don't use `nbdev_install` because we manage `quarto` using `nix`\n",
    "1. `nbdev_prepare`\n",
    "1. run code using the package\n",
    "1. `nbdev_release`\n",
    "1. `nbdev_pypi`\n",
    "\n",
    "### running tests\n",
    "\n",
    "if you share variables between cells in your test blocks, this causes trouble during `nbdev_prepare` as it tries to run cells in isolation, leading to e.g.\n",
    "\n",
    "```\n",
    "NameError: name 'example_properties_schema' is not defined\n",
    "```\n",
    "\n",
    "to deal with this, you can merge cells that use a common variable\n",
    "\n",
    "### updating package dependencies\n",
    "\n",
    "note that package dependencies are specified in [settings.ini](./settings.ini); you shouldn't be editing `setup.py` by hand. To add a requirement, add it to the `requuirements` entry in `settings.ini`, then run `python setup.py install`"
   ]
  }
 ],
 "metadata": {
  "kernelspec": {
   "display_name": "python3",
   "language": "python",
   "name": "python3"
  }
 },
 "nbformat": 4,
 "nbformat_minor": 4
}
